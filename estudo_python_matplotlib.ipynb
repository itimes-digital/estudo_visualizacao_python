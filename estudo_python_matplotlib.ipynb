{
  "nbformat": 4,
  "nbformat_minor": 0,
  "metadata": {
    "colab": {
      "name": "estudo_python_matplotlib.ipynb",
      "provenance": [],
      "collapsed_sections": [],
      "authorship_tag": "ABX9TyNBnbnY1W9y6wyeuEKhZv4/",
      "include_colab_link": true
    },
    "kernelspec": {
      "name": "python3",
      "display_name": "Python 3"
    }
  },
  "cells": [
    {
      "cell_type": "markdown",
      "metadata": {
        "id": "view-in-github",
        "colab_type": "text"
      },
      "source": [
        "<a href=\"https://colab.research.google.com/github/itimes-digital/estudo_visualizacao_python/blob/master/estudo_python_matplotlib.ipynb\" target=\"_parent\"><img src=\"https://colab.research.google.com/assets/colab-badge.svg\" alt=\"Open In Colab\"/></a>"
      ]
    },
    {
      "cell_type": "code",
      "metadata": {
        "id": "CQ5NeBt8z7kW",
        "colab_type": "code",
        "outputId": "59733aa6-907d-498e-b139-107f34782e4e",
        "colab": {
          "base_uri": "https://localhost:8080/",
          "height": 34
        }
      },
      "source": [
        "print('olá google colab')"
      ],
      "execution_count": 2,
      "outputs": [
        {
          "output_type": "stream",
          "text": [
            "olá google colab\n"
          ],
          "name": "stdout"
        }
      ]
    },
    {
      "cell_type": "code",
      "metadata": {
        "id": "o9mPXlkI0Ofj",
        "colab_type": "code",
        "outputId": "edbf67ab-e895-4164-847d-2e8541644d17",
        "colab": {
          "base_uri": "https://localhost:8080/",
          "height": 34
        }
      },
      "source": [
        "print('olá novamente')"
      ],
      "execution_count": 3,
      "outputs": [
        {
          "output_type": "stream",
          "text": [
            "olá novamente\n"
          ],
          "name": "stdout"
        }
      ]
    },
    {
      "cell_type": "code",
      "metadata": {
        "id": "U3Erb4dK0T3V",
        "colab_type": "code",
        "outputId": "083e4d82-a005-4640-ec9d-ac859d29e5d3",
        "colab": {
          "base_uri": "https://localhost:8080/",
          "height": 295
        }
      },
      "source": [
        "#Visualização de dados em Python\n",
        "\n",
        "import matplotlib.pyplot as plt\n",
        "\n",
        "#Gráfico de linha\n",
        "x = [1, 2, 5, 9, 12, 15, 11]\n",
        "y = [2, 3, 7, 9, 12, 15, 20]\n",
        "\n",
        "#Legendas\n",
        "titulo = \"Gráfico de \"\n",
        "eixoX = \"Eixo X\"\n",
        "eixoY = \"Eixo Y\"\n",
        "\n",
        "#Título\n",
        "plt.title(titulo + \"linha\")\n",
        "\n",
        "#Eixos\n",
        "plt.xlabel(eixoX)\n",
        "plt.ylabel(eixoY)\n",
        "\n",
        "plt.plot(x, y)\n",
        "plt.show()\n"
      ],
      "execution_count": 4,
      "outputs": [
        {
          "output_type": "display_data",
          "data": {
            "image/png": "[encoded data removed]",
            "text/plain": [
              "<Figure size 432x288 with 1 Axes>"
            ]
          },
          "metadata": {
            "tags": [],
            "needs_background": "light"
          }
        }
      ]
    },
    {
      "cell_type": "code",
      "metadata": {
        "id": "tTb0MNHa0XV4",
        "colab_type": "code",
        "outputId": "4d60a90c-441a-4b2f-a5bb-e43725c4c878",
        "colab": {
          "base_uri": "https://localhost:8080/",
          "height": 295
        }
      },
      "source": [
        "#Gráfico de barra\n",
        "\n",
        "#Título\n",
        "plt.title(titulo + \"barra\")\n",
        "\n",
        "#Eixos\n",
        "plt.xlabel(eixoX)\n",
        "plt.ylabel(eixoY)\n",
        "\n",
        "plt.bar(x, y)\n",
        "plt.show()\n"
      ],
      "execution_count": 5,
      "outputs": [
        {
          "output_type": "display_data",
          "data": {
            "image/png": "[encoded data removed]",
            "text/plain": [
              "<Figure size 432x288 with 1 Axes>"
            ]
          },
          "metadata": {
            "tags": [],
            "needs_background": "light"
          }
        }
      ]
    },
    {
      "cell_type": "code",
      "metadata": {
        "id": "6CIyDHOn7CFU",
        "colab_type": "code",
        "outputId": "eedd15d7-1ec9-45cd-e50b-0922f137de43",
        "colab": {
          "base_uri": "https://localhost:8080/",
          "height": 295
        }
      },
      "source": [
        "\n",
        "x1 = [1,3,5,7,9]\n",
        "y1 = [2,3,7,1,0]\n",
        "\n",
        "x2 = [2,4,6,8,10]\n",
        "y2 = [5,1,3,7,4]\n",
        "\n",
        "#Legendas\n",
        "plt.title(titulo + \"barra 2\")\n",
        "plt.xlabel(eixoX)\n",
        "plt.ylabel(eixoY)\n",
        "\n",
        "#plot\n",
        "plt.bar(x1, x1, label=\"Grupo 1\")\n",
        "plt.bar(x2, x2, label=\"Grupo 2\")\n",
        "plt.legend()\n",
        "\n",
        "#exibe gráfico\n",
        "plt.show()\n",
        "\n"
      ],
      "execution_count": 6,
      "outputs": [
        {
          "output_type": "display_data",
          "data": {
            "image/png": "[encoded data removed]",
            "text/plain": [
              "<Figure size 432x288 with 1 Axes>"
            ]
          },
          "metadata": {
            "tags": [],
            "needs_background": "light"
          }
        }
      ]
    },
    {
      "cell_type": "code",
      "metadata": {
        "id": "AS_irIBeQd72",
        "colab_type": "code",
        "outputId": "d78baac6-ed15-4a00-b4cf-a1baa849e677",
        "colab": {
          "base_uri": "https://localhost:8080/",
          "height": 295
        }
      },
      "source": [
        "\"\"\"\n",
        "'.' point marker\n",
        "',' pixel marker\n",
        "'o' circle marker\n",
        "'v' triangle_down marker\n",
        "'^' triangle_up marker\n",
        "'<' triangle_left marker\n",
        "'>' triangle_right marker\n",
        "'1' tri_down marker\n",
        "'2' tri_up marker\n",
        "'3' tri_left marker\n",
        "'4' tri_right marker\n",
        "'s' square marker\n",
        "'p' pentagon marker\n",
        "'*' star marker\n",
        "'h' hexagon1 marker\n",
        "'H' hexagon2 marker\n",
        "'+' plus marker\n",
        "'x' x marker\n",
        "'D' diamond marker\n",
        "'d' thin_diamond marker\n",
        "'|' vline marker\n",
        "'_' hline marker\n",
        "\"\"\"\n",
        "\n",
        "#z = [10,20,30,40,50]\n",
        "\n",
        "#legendas\n",
        "plt.title(titulo + \"Scatterplot: gráfico de dispersão\")\n",
        "plt.xlabel(eixoX)\n",
        "plt.ylabel(eixoY)\n",
        "\n",
        "plt.plot(x, y, color=\"#438740\", linestyle=\"--\") #Plotando linhas sobre os pontos\n",
        "plt.scatter(x, y, label=\"Meus Pontos\", color=\"#992500\", marker=\"o\", s=100)\n",
        "plt.legend()\n",
        "\n",
        "plt.show()"
      ],
      "execution_count": 7,
      "outputs": [
        {
          "output_type": "display_data",
          "data": {
            "image/png": "[encoded data removed]",
            "text/plain": [
              "<Figure size 432x288 with 1 Axes>"
            ]
          },
          "metadata": {
            "tags": [],
            "needs_background": "light"
          }
        }
      ]
    },
    {
      "cell_type": "code",
      "metadata": {
        "id": "VKfZ12HyUkxz",
        "colab_type": "code",
        "outputId": "ef756e1f-ac84-4eca-aba2-c3bca865b382",
        "colab": {
          "base_uri": "https://localhost:8080/",
          "height": 295
        }
      },
      "source": [
        "\"\"\"\n",
        "color: cor (ver exemplos abaixo)\n",
        "label: rótulo\n",
        "linestyle: estilo de linha (ver exemplos abaixo)\n",
        "linewidth: largura da linha\n",
        "marker: marcador (ver exemplos abaixo)\n",
        "\"\"\"\n",
        "\n",
        "\"\"\"\n",
        "'b' blue\n",
        "'g' green\n",
        "'r' red\n",
        "'c' cyan\n",
        "'m' magenta\n",
        "'y' yellow\n",
        "'k' black\n",
        "'w' white\n",
        "\"\"\"\n",
        "\n",
        "\"\"\"\n",
        "'-' solid line style\n",
        "'--' dashed line style\n",
        "'-.' dash-dot line style\n",
        "':' dotted line style\n",
        "\"\"\"\n",
        "\n",
        "#legendas\n",
        "plt.title(titulo + \"Scatterplot: gráfico de dispersão 2\")\n",
        "plt.xlabel(eixoX)\n",
        "plt.ylabel(eixoY)\n",
        "\n",
        "plt.plot(x, y, color=\"#236568\", linestyle=\":\", linewidth=\"3\") #Plotando linhas sobre os pontos\n",
        "plt.scatter(x, y, label=\"Meus Pontos\", color=\"#995545\", marker=\"^\", s=200)\n",
        "plt.legend()\n",
        "\n",
        "plt.show()\n",
        "\n",
        "#Salvar arquivo com definição de resolução\n",
        "#plt.savefig(\"scatter.png\", dpi=300)#.png, .pdf\n"
      ],
      "execution_count": 8,
      "outputs": [
        {
          "output_type": "display_data",
          "data": {
            "image/png": "[encoded data removed]",
            "text/plain": [
              "<Figure size 432x288 with 1 Axes>"
            ]
          },
          "metadata": {
            "tags": [],
            "needs_background": "light"
          }
        }
      ]
    },
    {
      "cell_type": "code",
      "metadata": {
        "id": "WU3mb4lHXH34",
        "colab_type": "code",
        "outputId": "16013803-9aae-4c22-cb87-1cdb2c7c20be",
        "colab": {
          "base_uri": "https://localhost:8080/",
          "height": 295
        }
      },
      "source": [
        "#Crescimento da população brasileira 1980-2016\n",
        "#Dados da população brasileira - DATASUS\n",
        "import matplotlib.pyplot as plt\n",
        "\n",
        "dados = open('sample_data/populacao_brasileira.csv').readlines()\n",
        "\n",
        "x = []\n",
        "y = []\n",
        "\n",
        "for i in range(len(dados)):\n",
        "  if i  != 0:\n",
        "    linha = dados[i].split(\";\")\n",
        "    x.append(int(linha[0]))\n",
        "    y.append(int(linha[1]))\n",
        "\n",
        "plt.plot(x, y, color=\"k\", linestyle=\"--\")\n",
        "plt.bar(x, y, color=\"#e4e4e4\")\n",
        "#plt.scatter(x, y, color=\"k\")\n",
        "plt.title(\"Crescimento da população brasileira 1980-2016\")\n",
        "plt.xlabel(\"Ano\")\n",
        "plt.ylabel(\"População x 100.000.000\")\n",
        "plt.show()\n",
        "\n",
        "#Para exportar o gráfico\n",
        "#plt.savefig(\"populacao_brasileira.png\", dpi=300)\n"
      ],
      "execution_count": 9,
      "outputs": [
        {
          "output_type": "display_data",
          "data": {
            "image/png": "[encoded data removed]",
            "text/plain": [
              "<Figure size 432x288 with 1 Axes>"
            ]
          },
          "metadata": {
            "tags": [],
            "needs_background": "light"
          }
        }
      ]
    },
    {
      "cell_type": "code",
      "metadata": {
        "id": "tLboEpX2a8Nj",
        "colab_type": "code",
        "outputId": "d5339be7-781c-4b7d-f928-69e4229b7065",
        "colab": {
          "base_uri": "https://localhost:8080/",
          "height": 265
        }
      },
      "source": [
        "#Boxplot - diagrama de caixa\n",
        "\n",
        "import matplotlib.pyplot as plt\n",
        "import random\n",
        "\n",
        "vetor = []\n",
        "\n",
        "for i in range(10):\n",
        "  numero_aleatorio = random.randint(0, 100)\n",
        "  vetor.append(numero_aleatorio)\n",
        "\n",
        "vetor.append(150)\n",
        "vetor.append(140)\n",
        "vetor.append(180)\n",
        "vetor.append(200)\n",
        "vetor.append(300)\n",
        "vetor.append(330)\n",
        "\n",
        "plt.boxplot(vetor)\n",
        "plt.show()"
      ],
      "execution_count": 17,
      "outputs": [
        {
          "output_type": "display_data",
          "data": {
            "image/png": "[encoded data removed]",
            "text/plain": [
              "<Figure size 432x288 with 1 Axes>"
            ]
          },
          "metadata": {
            "tags": [],
            "needs_background": "light"
          }
        }
      ]
    },
    {
      "cell_type": "code",
      "metadata": {
        "id": "cbv6bTu3d52B",
        "colab_type": "code",
        "colab": {}
      },
      "source": [
        "#Entrada de dados\n",
        "#Arquivo lido: human.fasta\n",
        "#Arquivo lido: bacteria.fasta\n",
        "#Saída de Arquivo: analise_human.fasta\n",
        "#Saída de Arquivo: analise_bacteria.fasta\n",
        "import matplotlib.pyplot as plt\n",
        "\n",
        "entrada = open('sample_data/human.fasta').read()\n",
        "saida = open('sample_data/analise_human.html', 'w')\n",
        "\n",
        "count = {}\n",
        "\n",
        "#Retira as quebras de linha - \\n\n",
        "entrada = entrada.replace('\\n', '')\n",
        "\n",
        "#Criar combinações\n",
        "for i in ['A', 'T', 'C', 'G']:\n",
        "  for j in ['A', 'T', 'C', 'G']:\n",
        "    count[i + j] = 0\n",
        "\n",
        "#print(count)\n",
        "\n",
        "for k in range(len(entrada) - 1):\n",
        "    count[entrada[k] + entrada[k + 1]] += 1\n",
        "\n",
        "#Gerar html\n",
        "i = 1\n",
        "for k in count:\n",
        "  transparencia = count[k] / max(count.values())\n",
        "  saida.write(\"<div style='width: 100px; border: 1px solid #111; color:#fff;\"\n",
        "              + \"height:100px; float:left; background-color:rgba(0,0,0, \" \n",
        "              + str(transparencia) \n",
        "              + \")'>\"+ k + \"</div>\")\n",
        "  if i % 4 == 0:#Podem ser 4, 8, 12, 16...\n",
        "    saida.write(\"<div style='clear:both'></div>\")\n",
        "  \n",
        "  i += 1\n",
        "\n",
        "saida.close()\n",
        "\n",
        "\n",
        "\n",
        "\n",
        "\n"
      ],
      "execution_count": 0,
      "outputs": []
    },
    {
      "cell_type": "code",
      "metadata": {
        "id": "VfxYtQvlRPV2",
        "colab_type": "code",
        "colab": {
          "base_uri": "https://localhost:8080/",
          "height": 564
        },
        "outputId": "083ef3e0-068c-42a3-b32d-ff82c822d88c"
      },
      "source": [
        "from numpy import arange\n",
        "import matplotlib.pyplot as plt\n",
        "from matplotlib.colors import LinearSegmentedColormap\n",
        "\n",
        "entrada = open('sample_data/human.fasta').read()\n",
        "\n",
        "count = {}\n",
        "\n",
        "#Retira as quebras de linha - \\n\n",
        "entrada = entrada.replace('\\n', '')\n",
        "\n",
        "#Criar combinações\n",
        "for i in ['A', 'T', 'C', 'G']:\n",
        "  for j in ['A', 'T', 'C', 'G']:\n",
        "    count[i + j] = 0\n",
        "\n",
        "for k in range(len(entrada) - 1):\n",
        "    count[entrada[k] + entrada[k + 1]] += 1\n",
        "\n",
        "matriz_dados = np.zeros((4,4), dtype=np.float64)\n",
        "\n",
        "x = 0\n",
        "j = 0\n",
        "for k in count:\n",
        "  matriz_dados [x, j] = count[k] / max(count.values())\n",
        "  if j < 3:\n",
        "      j += 1\n",
        "  else:\n",
        "      x +=1\n",
        "      j = 0\n",
        "\n",
        "\n",
        "fig = plt.figure(figsize=(10,15))\n",
        "\n",
        "colors = [(1,1,1,0), (0,0,0,1)]\n",
        "cm = LinearSegmentedColormap.from_list('custom', colors, N=256, gamma=0)\n",
        "\n",
        "plt.subplot(2, 1, 2, aspect=1)\n",
        "labels = [\"\"]\n",
        "plt.gca().set_title('DNA de um humano')\n",
        "plt.gca().set_yticklabels(labels)\n",
        "plt.gca().set_xticklabels(labels)\n",
        "plt.pcolor(matriz_dados, cmap=cm)\n",
        "fig.tight_layout()\n",
        "plt.show()"
      ],
      "execution_count": 241,
      "outputs": [
        {
          "output_type": "display_data",
          "data": {
            "image/png": "[encoded data removed]",
            "text/plain": [
              "<Figure size 720x1080 with 1 Axes>"
            ]
          },
          "metadata": {
            "tags": [],
            "needs_background": "light"
          }
        }
      ]
    },
    {
      "cell_type": "code",
      "metadata": {
        "id": "KN7W2iEcTGB8",
        "colab_type": "code",
        "colab": {
          "base_uri": "https://localhost:8080/",
          "height": 564
        },
        "outputId": "028cb81e-b32f-442d-92b2-560871da5602"
      },
      "source": [
        "from numpy import arange\n",
        "import matplotlib.pyplot as plt\n",
        "from matplotlib.colors import LinearSegmentedColormap\n",
        "\n",
        "entrada = open('sample_data/bacteria.fasta').read()\n",
        "\n",
        "count = {}\n",
        "\n",
        "#Retira as quebras de linha - \\n\n",
        "entrada = entrada.replace('\\n', '')\n",
        "\n",
        "#Criar combinações\n",
        "for i in ['A', 'T', 'C', 'G']:\n",
        "  for j in ['A', 'T', 'C', 'G']:\n",
        "    count[i + j] = 0\n",
        "\n",
        "for k in range(len(entrada) - 1):\n",
        "    count[entrada[k] + entrada[k + 1]] += 1\n",
        "\n",
        "matriz_dados = np.zeros((4,4), dtype=np.float64)\n",
        "\n",
        "x = 0\n",
        "j = 0\n",
        "for k in count:\n",
        "  matriz_dados [x, j] = count[k] / max(count.values())\n",
        "  if j < 3:\n",
        "      j += 1\n",
        "  else:\n",
        "      x +=1\n",
        "      j = 0\n",
        "\n",
        "\n",
        "fig = plt.figure(figsize=(10,15))\n",
        "colors = [(1,1,1,0), (0,0,0,1)]\n",
        "cm = LinearSegmentedColormap.from_list('custom', colors, N=256, gamma=0)\n",
        "\n",
        "plt.subplot(2, 1, 2, aspect=1)\n",
        "labels = [\"\"]\n",
        "plt.gca().set_title('DNA de uma bactéria')\n",
        "plt.gca().set_yticklabels(labels)\n",
        "plt.gca().set_xticklabels(labels)\n",
        "plt.pcolor(matriz_dados, cmap=cm)\n",
        "fig.tight_layout()\n",
        "plt.show()"
      ],
      "execution_count": 240,
      "outputs": [
        {
          "output_type": "display_data",
          "data": {
            "image/png": "[encoded data removed]",
            "text/plain": [
              "<Figure size 720x1080 with 1 Axes>"
            ]
          },
          "metadata": {
            "tags": [],
            "needs_background": "light"
          }
        }
      ]
    }
  ]
}